{
  "nbformat": 4,
  "nbformat_minor": 0,
  "metadata": {
    "colab": {
      "name": "NFIST | Workshop FC",
      "provenance": [],
      "collapsed_sections": [
        "MMs2vhmzOeo5",
        "1hzipQjqd74e",
        "LzI9Q3cZVucR",
        "rw9hNUoxeQRc",
        "eXll-tWgfs-E",
        "hCkBaQgDYgyb",
        "s6xKlIDtVWBk"
      ],
      "include_colab_link": true
    },
    "kernelspec": {
      "display_name": "Python 3",
      "name": "python3"
    }
  },
  "cells": [
    {
      "cell_type": "markdown",
      "metadata": {
        "id": "view-in-github",
        "colab_type": "text"
      },
      "source": [
        "<a href=\"https://colab.research.google.com/github/bernardo-silva/Google-colab-notebooks/blob/main/NFIST_Workshop_FC.ipynb\" target=\"_parent\"><img src=\"https://colab.research.google.com/assets/colab-badge.svg\" alt=\"Open In Colab\"/></a>"
      ]
    },
    {
      "cell_type": "markdown",
      "metadata": {
        "id": "3WvKkad_THjx"
      },
      "source": [
        "![logo_final-e1474214763533.png](data:image/png;base64,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)           ![opengraph-icon-200x200.png](data:image/png;base64,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)\n",
        "\n"
      ]
    },
    {
      "cell_type": "markdown",
      "metadata": {
        "id": "MMs2vhmzOeo5"
      },
      "source": [
        " # **Introdução ao Python**\n",
        "\n",
        "---\n",
        "\n",
        "\n",
        "\n",
        "\n"
      ]
    },
    {
      "cell_type": "markdown",
      "metadata": {
        "id": "wTLM1Adrd60F"
      },
      "source": [
        "\n",
        "Python é uma linguagem de Programação de \"alto nível\", ou seja, a sua sintaxe é bastante parecida à linguagem corrente, permitindo assim uma leitura facilitada do código. Começemos por uma introdução aos básicos desta linguagem."
      ]
    },
    {
      "cell_type": "markdown",
      "metadata": {
        "id": "1hzipQjqd74e"
      },
      "source": [
        "# **Variáveis, Operações e Funções**"
      ]
    },
    {
      "cell_type": "markdown",
      "metadata": {
        "id": "LzI9Q3cZVucR"
      },
      "source": [
        "##Variáveis e Operações\n",
        "Os blocos principais de todas as linguagens de programação são as **variáveis**. Estas permitem guardar dados para serem posteriormente manipulados.\n",
        "```\n",
        "inteiro = 10\n",
        "decimal = 3.14\n",
        "texto = \"fisica\"\n",
        "```\n",
        "Vamos focar-nos em manipular números, inteiros ou decimais. Em Python, a maioria das operações e funções matemáticas encontram-se implementadas de raiz. Em baixo encontram-se alguns exemplos.\n"
      ]
    },
    {
      "cell_type": "code",
      "metadata": {
        "colab": {
          "base_uri": "https://localhost:8080/"
        },
        "id": "Bb4V8gEzsEw9",
        "outputId": "86f461b3-90bd-4582-a1e4-938f9d6f801e"
      },
      "source": [
        "# Definir as variáveis sobre as quais vamos atuar\n",
        "x = 3\n",
        "y = 5\n",
        "print(\"x = \", x)\n",
        "print(\"y = \", y)\n",
        "\n",
        "# Aplicar várias operações e imprimir o resultado\n",
        "print(\"Soma: x + y =\", x + y)\n",
        "print(\"Subtração: x - y =\", x - y)\n",
        "print(\"Mutiplicação: x * y =\", x * y)\n",
        "print(\"Divisão: x / y =\", x / y)\n",
        "print(\"Exponenciação: x ** y =\", x ** y)"
      ],
      "execution_count": null,
      "outputs": [
        {
          "output_type": "stream",
          "text": [
            "x =  3\n",
            "y =  5\n",
            "Soma: x + y = 8\n",
            "Subtração: x - y = -2\n",
            "Mutiplicação: x * y = 15\n",
            "Divisão: x / y = 0.6\n",
            "Exponenciação: x ** y = 243\n"
          ],
          "name": "stdout"
        }
      ]
    },
    {
      "cell_type": "markdown",
      "metadata": {
        "id": "fWB4_tkZXd64"
      },
      "source": [
        "No código acima, é de notar a existência de linhas começadas com um cardinal (#). Estas permitem escrever comentários a meio do código, ou seja, linhas que o programa irá simplesmente ignorar.\n"
      ]
    },
    {
      "cell_type": "markdown",
      "metadata": {
        "id": "8aQ1SjVPxTDZ"
      },
      "source": [
        "##Funções\n",
        "Num contexto de programação, uma função tem um papel muito semelhante a uma função matemática. Se considerarmos a função $f(x) = ax + b$, $x$ é o argumento da função, $f$ é o nome da função, e  valor de $ax+b$ será o seu \"resultado\".\n",
        "\n",
        "Em programação, mais específicamente em Python, podemos definir uma função da seguinte forma:"
      ]
    },
    {
      "cell_type": "code",
      "metadata": {
        "id": "AOw90zB0ylbZ"
      },
      "source": [
        "def nome_da_funcao(argumento1,argumento2):\n",
        "    #Efetuar as operações desejadas...\n",
        "    resultado = argumento1 + argumento2\n",
        "    return resultado\n"
      ],
      "execution_count": null,
      "outputs": []
    },
    {
      "cell_type": "markdown",
      "metadata": {
        "id": "HxksKRs9y6u3"
      },
      "source": [
        "Salienta-se o termo ```def```, que indica que vamos **def**inir uma função. Podemos atribuir-lhe o nome desejado e receber um número arbitrário de argumentos, neste exemplo usamos dois.\n",
        "\n",
        "A seguir à declaração do nome e dos argumentos, podemos efetuar todas as operações que desejarmos, e, por fim, quando tivermos o resultado, podemos retorná-lo usando a expressão ```return```.\n",
        "\n",
        "Quando quisermos usar uma função, apenas temos que fazer apenas:"
      ]
    },
    {
      "cell_type": "code",
      "metadata": {
        "colab": {
          "base_uri": "https://localhost:8080/"
        },
        "id": "bfCVQGAA0V2r",
        "outputId": "483fc2fb-512d-45aa-fea7-b5f8408e8d22"
      },
      "source": [
        "soma = nome_da_funcao(5,2)\n",
        "print(soma)"
      ],
      "execution_count": null,
      "outputs": [
        {
          "output_type": "stream",
          "text": [
            "7\n"
          ],
          "name": "stdout"
        }
      ]
    },
    {
      "cell_type": "markdown",
      "metadata": {
        "id": "WmX2RwdB0l3G"
      },
      "source": [
        "Aqui fornecemos os argumentos 5 e 2 à função, e guardamos o seu resultado na variável ```soma```."
      ]
    },
    {
      "cell_type": "markdown",
      "metadata": {
        "id": "j9Ma-euY1Vih"
      },
      "source": [
        "Anteriormente usamos a função ```print()```, que permite imprimir no ecrã resultados. As várias coisas que se pretendem imprimir deverão estar divididas por uma vírgula e texto deverá estar entre aspas. Esta função já está definida de raiz, ou seja, não necessitamos de a declarar, como fizemos para a função anterior.\n",
        "\n",
        "Por vezes necessitamos de usar funções que ainda não estão implementadas de raiz, mas que se podem encontrar numa biblioteca. Por exemplo, se quisermos usar funções matemáticas mais avançadas, podemos usar a biblioteca ```math```. Isto é feito através da seguinte linha de código:\n",
        "```\n",
        "import math\n",
        "```\n",
        "Uma biblioteca é um conjunto de comandos e funções definidos fora do ficheiro atual que podem ser utilizados após a sua importação. De notar que para utilizar esse códigos, estes devem estar precedidos por ```math.```\n",
        "\n",
        "Seguem alguns exemplo:"
      ]
    },
    {
      "cell_type": "code",
      "metadata": {
        "colab": {
          "base_uri": "https://localhost:8080/"
        },
        "id": "B3w4sSmbUHKE",
        "outputId": "f771c49e-e2a6-4ee7-bc27-d449431dbaf6"
      },
      "source": [
        "# Importar a biblioteca\n",
        "import math\n",
        "\n",
        "# Relembrar as variáveis definidas acima\n",
        "print(\"x = \", x)\n",
        "print(\"y = \", y)\n",
        "\n",
        "# Atuar nas variáveis com funções da biblioteca math\n",
        "print(\"Raiz Quadrada: math.sqrt(x) =\", math.sqrt(x))\n",
        "print(\"Exponencial (e^x): math.exp(x) =\", math.exp(x))\n",
        "print(\"Logaritmo de Base Natural: math.log(x) =\", math.log(x))\n",
        "print(\"Seno: math.sin(x) =\", math.sin(x))\n",
        "print(\"Cosseno: math.cos(x) =\", math.cos(x))"
      ],
      "execution_count": null,
      "outputs": [
        {
          "output_type": "stream",
          "text": [
            "x =  3\n",
            "y =  5\n",
            "Raiz Quadrada: math.sqrt(x) = 1.7320508075688772\n",
            "Exponencial (e^x): math.exp(x) = 20.085536923187668\n",
            "Logaritmo de Base Natural: math.log(x) = 1.0986122886681098\n",
            "Seno: math.sin(x) = 0.1411200080598672\n",
            "Cosseno: math.cos(x) = -0.9899924966004454\n"
          ],
          "name": "stdout"
        }
      ]
    },
    {
      "cell_type": "markdown",
      "metadata": {
        "id": "35nOGBWnePbP"
      },
      "source": [
        "Atenção que as funções trignométricas usam todas os argumentos em radianos!\n",
        "\n",
        "Esta biblioteca guarda também algumas constantes, como é exemplo π:\n",
        "```\n",
        "math.pi\n",
        "```\n",
        "Uma vez importada, não precisamos mais de a importar neste documento."
      ]
    },
    {
      "cell_type": "markdown",
      "metadata": {
        "id": "rw9hNUoxeQRc"
      },
      "source": [
        "# **Listas**"
      ]
    },
    {
      "cell_type": "markdown",
      "metadata": {
        "id": "ls2zidr0aWwC"
      },
      "source": [
        "Por vezes, é mais eficiente guardar muitas dados numa única variável. Para isso, usamos listas. Estas guardam $n$ variáveis em lugares numerados de 0 a $n-1$. As listas são definidas como:\n",
        "```\n",
        "lista = [13, 72, 23, 85]\n",
        "```\n",
        "As variáveis dentro dos parêntises retos são as variáveis que a lista irá guardar. Para aceder a um elemento, pode-se usar a notação:\n",
        "```\n",
        "print(lista[1])\n",
        "```\n",
        "Esta linha de código iria imprimir o valor na posição *1* da lista, ou seja, o número 72 (começa-se a contar do 0!!!).\n",
        "\n",
        "Analisemos o seguinte exemplo:"
      ]
    },
    {
      "cell_type": "code",
      "metadata": {
        "colab": {
          "base_uri": "https://localhost:8080/"
        },
        "id": "zW--RvwKclkT",
        "outputId": "2bc6a533-5c88-4241-e3ed-421c8f3436c5"
      },
      "source": [
        "# Inicialização da lista\n",
        "lista = [10, 20, 30, 40]\n",
        "\n",
        "# Aceder aos seus elementos\n",
        "print(\"O elemento na posição 2 é: \", lista[2])\n",
        "print(\"A lista toda impressa é: \", lista)\n",
        "print(\"O tamanho da lista pode ser obtido pelo comando len(lista), retornando:\", len(lista))\n",
        "\n",
        "# Adicionar uma variável à lista\n",
        "lista.append(50)\n",
        "print(\"Foi adicionada uma variável à lista!\")\n",
        "print(\"A lista toda impressa é: \", lista)\n",
        "print(\"O tamanho da lista pode ser obtido pelo comando len(lista), retornando:\", len(lista))\n",
        "\n",
        "# Alterar uma das entradas da lista\n",
        "lista[2] = lista[2] + 5\n",
        "print(\"Foi somado 5 ao elemento 2 da lista.\")\n",
        "print(\"A lista toda impressa é: \", lista)"
      ],
      "execution_count": null,
      "outputs": [
        {
          "output_type": "stream",
          "text": [
            "O elemento na posição 2 é:  30\n",
            "A lista toda impressa é:  [10, 20, 30, 40]\n",
            "O tamanho da lista pode ser obtido pelo comando len(lista), retornando: 4\n",
            "Foi adicionada uma variável à lista!\n",
            "A lista toda impressa é:  [10, 20, 30, 40, 50]\n",
            "O tamanho da lista pode ser obtido pelo comando len(lista), retornando: 5\n",
            "Foi somado 5 ao elemento 2 da lista.\n",
            "A lista toda impressa é:  [10, 20, 35, 40, 50]\n"
          ],
          "name": "stdout"
        }
      ]
    },
    {
      "cell_type": "markdown",
      "metadata": {
        "id": "m_rlwmicfAuf"
      },
      "source": [
        "Podemos então resumir algumas funcionalidades das listas:\n",
        "* Definição inicial da lista (pode ou não começar vazia)\n",
        "```\n",
        "lista = []\n",
        "```\n",
        "* Adicionar um elemento ao final da lista\n",
        "```\n",
        "lista.append(10)\n",
        "```\n",
        "* Aceder a um elemento da lista (as posições começam a contar de 0!!!)\n",
        "```\n",
        "lista[1]\n",
        "```\n",
        "* Obter o tamanho da lista\n",
        "```\n",
        "len(lista)\n",
        "```"
      ]
    },
    {
      "cell_type": "markdown",
      "metadata": {
        "id": "eXll-tWgfs-E"
      },
      "source": [
        "# ***For Loops***"
      ]
    },
    {
      "cell_type": "markdown",
      "metadata": {
        "id": "U9f0dzTgf1Ew"
      },
      "source": [
        "Imaginemos que queremos criar uma lista com todos os números inteiros menores que 100. Ninguém teria tempo para escrever todos os números à mão. De modo a resolver este problema, podemos criar código que se repete *n* vezes de modo a permitir obter um código mais limpo, eficiente e organizado.\n",
        "\n",
        "Começemos por ilustrar este exemplo com um *for loop*. A sua sintaxe é:\n",
        "```\n",
        "for {variável} in range({máximo}):\n",
        "  {código a executar}\n",
        "```\n",
        "Este fragmento de código iria executar o *{código a executar}* percorrendo a *{variável}* de *0* a *{máximo}*.\n",
        "\n",
        "Exemplifiquemos com o caso em particular:"
      ]
    },
    {
      "cell_type": "code",
      "metadata": {
        "colab": {
          "base_uri": "https://localhost:8080/"
        },
        "id": "MMxkCLd6gZ5w",
        "outputId": "4f694380-769b-4d4d-fae0-209b533a2de1"
      },
      "source": [
        "# Inicializar a lista que queremos preencher\n",
        "lista = []\n",
        "\n",
        "# Usar um for loop para a preencher\n",
        "for i in range(25):\n",
        "  lista.append(i)\n",
        "\n",
        "print(lista)"
      ],
      "execution_count": null,
      "outputs": [
        {
          "output_type": "stream",
          "text": [
            "[0, 1, 2, 3, 4, 5, 6, 7, 8, 9, 10, 11, 12, 13, 14, 15, 16, 17, 18, 19, 20, 21, 22, 23, 24]\n"
          ],
          "name": "stdout"
        }
      ]
    },
    {
      "cell_type": "markdown",
      "metadata": {
        "id": "gWkTUu0FiEa3"
      },
      "source": [
        "Deste modo, foi possível preencher a lista com todos estes números facilemente. Reparamos que o código identado depois da linha do ```for``` foi corrido *100* vezes, aumentando de cada vez o valor de ```i```.\n",
        "\n",
        "Existe uma notação mais compacta para a operação feita anteriormente:\n",
        "\n",
        "```\n",
        "lista = [i for i in range(25)]\n",
        "```\n",
        "\n",
        "\n",
        "Um ciclo ```for``` pode ainda percorrer todos os elementos de uma lista, tal como no exemplo seguinte:\n",
        "\n",
        " Vamos agora multiplicar todos os números por 2 e imprimir cada um numa linha:"
      ]
    },
    {
      "cell_type": "code",
      "metadata": {
        "colab": {
          "base_uri": "https://localhost:8080/"
        },
        "id": "j7rRlGhGikfh",
        "outputId": "d2814398-878d-48f0-feef-bc13ca4b1eb8"
      },
      "source": [
        "# Usar a lista já definida acima\n",
        "for elemento in lista:\n",
        "  elemento = elemento * 2\n",
        "  print(\"Entrada\", 1, \"é\", elemento)\n",
        "print(\"Já está!\",lista)"
      ],
      "execution_count": null,
      "outputs": [
        {
          "output_type": "stream",
          "text": [
            "Entrada 1 é 0\n",
            "Entrada 1 é 2\n",
            "Entrada 1 é 4\n",
            "Entrada 1 é 6\n",
            "Entrada 1 é 8\n",
            "Entrada 1 é 10\n",
            "Entrada 1 é 12\n",
            "Entrada 1 é 14\n",
            "Entrada 1 é 16\n",
            "Entrada 1 é 18\n",
            "Entrada 1 é 20\n",
            "Entrada 1 é 22\n",
            "Entrada 1 é 24\n",
            "Entrada 1 é 26\n",
            "Entrada 1 é 28\n",
            "Entrada 1 é 30\n",
            "Entrada 1 é 32\n",
            "Entrada 1 é 34\n",
            "Entrada 1 é 36\n",
            "Entrada 1 é 38\n",
            "Entrada 1 é 40\n",
            "Entrada 1 é 42\n",
            "Entrada 1 é 44\n",
            "Entrada 1 é 46\n",
            "Entrada 1 é 48\n",
            "Já está! [0, 1, 2, 3, 4, 5, 6, 7, 8, 9, 10, 11, 12, 13, 14, 15, 16, 17, 18, 19, 20, 21, 22, 23, 24]\n"
          ],
          "name": "stdout"
        }
      ]
    },
    {
      "cell_type": "markdown",
      "metadata": {
        "id": "trKc-p-qi4qx"
      },
      "source": [
        "Começamos por reparar que a agora a variável ```i``` percorre os números de 0 até ao número de elementos da lista, exatamente como pretendemos. Por outro lado, em vez de correr apenas uma linha de código a cada iteração, 2 linhas distintas são corridas. Qualquer número de linhas de código pode ser corrido dentro de um *for loop* desde que esssas linhas estejam identadas. A linha 5 do código acima apenas corre depois do *loop* porque não está identada."
      ]
    },
    {
      "cell_type": "markdown",
      "metadata": {
        "id": "hCkBaQgDYgyb"
      },
      "source": [
        "# ***While Loops***"
      ]
    },
    {
      "cell_type": "markdown",
      "metadata": {
        "id": "arLfvCOXpSmp"
      },
      "source": [
        "Vimos que usando os *for loops* podemos executar um grande número de instruções com um reduzido número de linhas de código. No entanto, é por vezes útil que este código seja executado *enquanto* se verifica uma dada condição. Para tal temos os *while loops*. A sua sintaxe é a seguinte:\n",
        "\n",
        "```\n",
        "while {condição}:\n",
        "  {código a executar}\n",
        "```\n",
        "\n",
        "Agora, em vez de percorrer os elementos de uma lista, o nosso programa verifica a condição, e executa o código dentro do loop enquanto esta se veerificar. \n",
        "\n",
        "Exemplificamos, construindo a mesma lista que anteriormente:"
      ]
    },
    {
      "cell_type": "code",
      "metadata": {
        "colab": {
          "base_uri": "https://localhost:8080/"
        },
        "id": "PkYGgJNHqqP-",
        "outputId": "5351f460-caaa-405f-e253-cbb825081ba0"
      },
      "source": [
        "# Inicializar a lista que queremos preencher\n",
        "lista = []\n",
        "\n",
        "# Usar um while loop para a preencher\n",
        "i=0\n",
        "while i<25:\n",
        "  lista.append(i)\n",
        "  i=i+1\n",
        "\n",
        "print(lista)"
      ],
      "execution_count": null,
      "outputs": [
        {
          "output_type": "stream",
          "text": [
            "[0, 1, 2, 3, 4, 5, 6, 7, 8, 9, 10, 11, 12, 13, 14, 15, 16, 17, 18, 19, 20, 21, 22, 23, 24]\n"
          ],
          "name": "stdout"
        }
      ]
    },
    {
      "cell_type": "markdown",
      "metadata": {
        "id": "fxyAP6Coq4RK"
      },
      "source": [
        "Mais uma vez, o código dentro do loop deve estar corretamente identado."
      ]
    },
    {
      "cell_type": "markdown",
      "metadata": {
        "id": "s6xKlIDtVWBk"
      },
      "source": [
        "# ***Matplotlib***"
      ]
    },
    {
      "cell_type": "markdown",
      "metadata": {
        "id": "0VDA_BThWApe"
      },
      "source": [
        "No Python, muito do código necessário para a execução de um grande número de tarefas já se encontra desenvolvido, e organizado em **Módulos**, que podem ser incluidos em qualquer programa. Um exemplo é o módulo *math*, usado anteriormente. A sua inclusão é feita através do comando:\n",
        "```\n",
        "import modulo\n",
        "```\n",
        "O *Matplotlib* é um módulo bastante útil, que permita a criação de uma interface gráfica para representação de dados. Vamos ver alguns exemplos."
      ]
    },
    {
      "cell_type": "code",
      "metadata": {
        "colab": {
          "base_uri": "https://localhost:8080/",
          "height": 279
        },
        "id": "i9oQIlIJbI-J",
        "outputId": "a5ddd152-3c77-4d64-b162-008ef45c6972"
      },
      "source": [
        "import matplotlib.pyplot as plt\n",
        "\n",
        "#Listas com dados que queremos representar\n",
        "x1 = [0,1,2,3,4,5,6,7,8]\n",
        "y1 = [0,1,4,9,16,25,36,49,64]\n",
        "x2 = [0,1,2,3,4]\n",
        "y2 = [0,1,8,27,64]\n",
        "x3 = [0.01*x for x in range(500)]\n",
        "y3 = [x**2.5 for x in x3]\n",
        "\n",
        "plt.scatter(x1,y1)\n",
        "plt.plot(x2,y2, color=\"red\", marker=\"o\")\n",
        "plt.plot(x3,y3, color=\"orange\", linestyle=\"--\", linewidth=7)\n",
        "\n",
        "plt.xlabel(\"x\")\n",
        "plt.ylabel(\"y\")\n",
        "\n",
        "plt.show()"
      ],
      "execution_count": null,
      "outputs": [
        {
          "output_type": "display_data",
          "data": {
            "image/png": "[encoded data removed]",
            "text/plain": [
              "<Figure size 432x288 with 1 Axes>"
            ]
          },
          "metadata": {
            "tags": [],
            "needs_background": "light"
          }
        }
      ]
    },
    {
      "cell_type": "markdown",
      "metadata": {
        "id": "98yrul2_e6fX"
      },
      "source": [
        "Como podemos observar, os dados, na forma de listas, são representados através das funções *scatter* e *plot*, cujos argumentos são, para além destas, definições relacionadas com o estilo do gráfico, como a cor e grossura da linha, ou o tipo de *marker*."
      ]
    },
    {
      "cell_type": "code",
      "metadata": {
        "colab": {
          "base_uri": "https://localhost:8080/",
          "height": 286
        },
        "id": "GSguE_oIe5sK",
        "outputId": "51576ab1-ac8f-4094-9045-1ee8d35c5d88"
      },
      "source": [
        "plt.scatter([.5],[.5], c='gold', s=45000)\n",
        "#plt.scatter([.38, .62], [.63, .63], c='red', s=1000)\n",
        "plt.scatter([.38, .62], [.63, .63], c='red', s=1000, marker=\"3\", lw=10)\n",
        "\n",
        "X = [0.3+0.004*i for i in range(100)]\n",
        "Y = [2* (x-.5)**2 +0.22 for x in X]\n",
        "plt.plot(X, Y, c='black', linewidth=8)\n",
        "X2 = [0.3+0.004*i for i in range(100)]\n",
        "Y2 = [-2* (x-.5)**2 +0.38 for x in X]\n",
        "plt.plot(X2, Y2, c='black', linewidth=8)\n",
        "\n",
        "plt.xlim(0,1)\n",
        "plt.ylim(0,1)\n"
      ],
      "execution_count": null,
      "outputs": [
        {
          "output_type": "execute_result",
          "data": {
            "text/plain": [
              "(0.0, 1.0)"
            ]
          },
          "metadata": {
            "tags": []
          },
          "execution_count": 10
        },
        {
          "output_type": "display_data",
          "data": {
            "image/png": "[encoded data removed]",
            "text/plain": [
              "<Figure size 432x288 with 1 Axes>"
            ]
          },
          "metadata": {
            "tags": [],
            "needs_background": "light"
          }
        }
      ]
    },
    {
      "cell_type": "markdown",
      "metadata": {
        "id": "2OAh8fMtPI6V"
      },
      "source": [
        "# **Métodos de Resolução Numérica de Equações Diferenciais**\n",
        "\n",
        "---\n",
        "\n",
        "\n",
        "\n",
        "\n"
      ]
    },
    {
      "cell_type": "markdown",
      "metadata": {
        "id": "RYlO4Ki0PyIX"
      },
      "source": [
        "O propóstio da Física é a descrição do mundo que nos rodeia. A linguagem na qual o faz é a Matemática. Interessa por isso olhar para a linguagem das Equações Diferenciais usada para descrever sistemas físicos."
      ]
    },
    {
      "cell_type": "markdown",
      "metadata": {
        "id": "JHacHPWkm9z0"
      },
      "source": [
        "# ***Derivadas e Equações Diferenciais***\n",
        "\n"
      ]
    },
    {
      "cell_type": "markdown",
      "metadata": {
        "id": "aVXoa-YH48RW"
      },
      "source": [
        "\n",
        "\n",
        "*   **Funções** são objetos matemáticos que consistem numa *regra* que associa a cada elemento (objeto) de um conjunto A, um dado elemento (imagem) de um conjunto B;\n",
        "*   **Funções Reais de Variável Real** são funções que transformam números reais em números reais. Podem ser usadas para descrever grandezas físicas como o comprimento de uma mola $l$ em função do tempo $t$: $l(t)$, ou a Temperatura $T$ em diferentes pontos $x$ de uma barra $T(x)$. É claro que neste último caso a Temperatura também pode variar com o tempo e é então um função de 2 variáveis $T(x,t)$. Adicionalmente, se a temperatura depender da posição $y$ ou $z$ da barra temos $T(x,y,z,t)$ uma função das 3 coordenadas espaciais e da coordenada temporal.\n",
        "\n",
        "  ![mola.png](data:image/png;base64,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)\n",
        "\n",
        "\n",
        "\n",
        "* **Limites** de funções são o conceito básico da Análise Matemática. Dizemos que uma função $f(x)$ tem limite $L$ quando o seu argumento tende para um ponto $x=a$: $x \\rightarrow a$ se conseguimos que o seu valor seja arbitrariamente próximo de $L$ fazendo $x$ suficientemente próximo de $a$.\n",
        "\n",
        "* **Derivadas** de funções num ponto são dadas pelo limite da razão incremental:\n",
        "    \n",
        "    $f'(x_0) = \\lim_{x\\rightarrow x_0} \\frac{f(x)-f(x_0)}{x-x_0} = \\lim_{h\\rightarrow0} \\frac{f(x_0+h)-f(x)}{h} = \\lim \\frac{\\Delta f}{\\Delta x} =  \\frac{df}{dx}$\n",
        "\n",
        "  Podemos então ver, que se este limite existir (diz-se que a função é **diferenciável**), pela definição de limite, quando estamos próximos do ponto (quão próximos? o suficiente) o valor de $\\dfrac{\\Delta f}{\\Delta x}$ é arbitrariamente (tanto quanto queiramos) próximo de um número $m=f'(x_0)$, a derivada no ponto. Então, perto de um ponto diferenciável temos $\\Delta f \\approx m \\times \\Delta x \\leftrightarrow f(x) = f(x_0) + m \\times (x-x_0)$, ou seja, a função é aproximadamente *linear* (uma reta), localmente (perto de $x_0$), que vale $f(x_0)$ em $x=x_0$ (obviamente) e tem declive igual à derivada no ponto $f'(x_0)$.\n",
        "  A derivada de ordem 2 $f''(x) = \\dfrac{d^2f}{dx^2}$ é a derivada da derivada, e assim sucessivamente para ordens superiores.\n",
        "\n",
        "  ![derivada.png](data:image/png;base64,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)\n",
        "\n",
        "\n",
        "* **Equações Diferenciais**. \n",
        "  As equações a que estão habituados são coisas do tipo: $ x^2 - 3x +2 = 0$, ou seja, igualdades com incógnitas, neste caso x, para as quais queremos achar a solução (o valor que torna a igualdade verdadeira). Neste exemplo temos duas soluções: $x=1$ e $x=2$.\n",
        "  \n",
        "  Por sua vez, as equações diferenciais, são igualdades que envolvem derivadas, em que o objetivo é encontrar não um número mas uma função que as satisfaça, como por exemplo:\n",
        "  - $f'(x) = 2f(x)$\n",
        "  - $f''(x) + 7f'(x) + \\dfrac{1}{3}f(x) = 4$\n",
        "  - $f''(x) \\times f'(x) = 2$\n",
        "  \n",
        "  Para funções de múltiplas variáveis, poderemos ter equações que envolvem derivadas em ordem a diferentes destas variáveis (que podem ser como vimos,  tempo t e a posição x). Um exemplo que aparece na física é:\n",
        "\n",
        "  - $\\dfrac{df}{dt} = \\dfrac{d^2f}{dx^2}$\n",
        "\n",
        "* **Lei de Newton**\n",
        "  Quando se trata de descrever a posição de uma massa *m* em função do tempo, a equação clássica que descreve este movimento é a conhecida segunda lei de Newton:\n",
        "  \n",
        "  $\\vec{F}= m \\vec{a}$\n",
        "\n",
        "  Os vetores representam que na verdade estamos perante 3 equações para as 3 direções espaciais: $F_x = m a_x$, $F_y = m a_y$ e $F_z = m a_z$. Sabendo as forças aplicadas num corpo podemos substituir nesta equação, ficando com a equação diferencial cuja solução $\\vec{r}(t) = (x(t),y(t),z(t))$ é a posição do corpo ao longo do tempo. Usaremos esta lei no primeiro exemplo\n"
      ]
    },
    {
      "cell_type": "markdown",
      "metadata": {
        "id": "TOyVPseWnKin"
      },
      "source": [
        "# ***Diferenças Finitas e Método de Euler***\n"
      ]
    },
    {
      "cell_type": "markdown",
      "metadata": {
        "id": "R9H1ShpCGvpR"
      },
      "source": [
        "-dizer que aproximacao as derivadas sao diferencas finitas\n",
        "\n",
        "-com computadores podemos aproximar esse calculo da solucao verdadeira\n",
        "\n",
        "-dizer q isso se chama metodo de euler: escrever exemplo simples geral de 1a ordem f'(x) = F(x,f)\n",
        "\n",
        "-descrever sistema da mola: forca de hooke, eq 1d do movimento e como fica euler p eq de ordem 2"
      ]
    }
  ]
}