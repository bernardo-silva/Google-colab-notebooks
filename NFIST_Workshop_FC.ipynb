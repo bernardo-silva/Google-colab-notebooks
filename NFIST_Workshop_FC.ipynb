{
  "nbformat": 4,
  "nbformat_minor": 0,
  "metadata": {
    "colab": {
      "name": "NFIST | Workshop FC",
      "provenance": [],
      "collapsed_sections": [
        "1hzipQjqd74e",
        "rw9hNUoxeQRc",
        "eXll-tWgfs-E"
      ],
      "toc_visible": true,
      "include_colab_link": true
    },
    "kernelspec": {
      "name": "python3",
      "display_name": "Python 3"
    }
  },
  "cells": [
    {
      "cell_type": "markdown",
      "metadata": {
        "id": "view-in-github",
        "colab_type": "text"
      },
      "source": [
        "<a href=\"https://colab.research.google.com/github/bernardo-silva/Google-colab-notebooks/blob/main/NFIST_Workshop_FC.ipynb\" target=\"_parent\"><img src=\"https://colab.research.google.com/assets/colab-badge.svg\" alt=\"Open In Colab\"/></a>"
      ]
    },
    {
      "cell_type": "markdown",
      "metadata": {
        "id": "3WvKkad_THjx"
      },
      "source": [
        "![logo_final-e1474214763533.png](data:image/png;base64,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)           ![opengraph-icon-200x200.png](data:image/png;base64,iVBORw0KGgoAAAANSUhEUgAAAMgAAADICAYAAACtWK6eAAAAAXNSR0IArs4c6QAAAAZiS0dEAP8A/wD/oL2nkwAAAAlwSFlzAAALEwAACxMBAJqcGAAAAAd0SU1FB98JEgETBcj7JhUAAB4NSURBVHja7Z15eBvltcbfWbTasuOELLazQ+KEuGlDnEAChSSQsKZAWNuytRcoW9lbtrJd6G1LgVKaAC1lh0vZtwC9IZC0KVt2AglxnA0SO4tjO7Zsa5357h8aRSNpJM1II2mMzvs8frxIGlvj7zfnnPc7830AiUQikUgkEolEIpFIJBKJRCKRSCQSiUQikUgkEolEIpFIJBKJRCKRSCQSiUQikUgkEolEIpFIJBKJRCKRSCQSiUQikUgkEolEIpFIpSWOTkHez28+zzFTPkgESJ+EQAAgKp/NPNcyAAlAWPmaACJALHm+OAC8AkEiKBwAGwAHALsCiVkKAQgCCCigsBRgRAFiCY+RdEqkU2A4UqijAa9871L9nAOAo679W0M40Gt3VAw4WpbComB3DhVsjhowgIFBdLgbAIAx1XhlTBm9DNHngQFSyN8oS5IXYGCS5A35uzfwghgO+3vXMia3eXdtbdn41sMtCXBIAHzKZ1n1QZBQBMkLGFE4HMpnHgBfP+/a0ZVD62bZyysniI6ycYLdWcfxvCcy7lUDXQ0AY7FRylhaOACGGEPRr5VnJrxWCvob5XCwJdTr3djbuuPT9a/et1iJNmHlc/RrRqAQIGZGjGiq5Bw8YfrQg2f+ZI6ravBUe3m/mRzHe+IjgWoQx8GRMOhNhkPruEyWvMGeziVtjZ8/s/n/nlgHoEf5CCqgSAQJAZItGCIAp/Lhnnzh3Uf3G37omc7KAXNj4zdhsCYN4hSDPi0c6giTCIp+OOLgYgwhf/fq9qaVj21a+Mi/AXgBdAPwK1GFICFAdCsaMVwA+k0868aJNZOOvUWwOw+PG8Qpr/YG4NAc7PrhSEzTWAo41M8J+bqWNL376E3tm1e3KJD4CBICRK94JZVyAaiYecsLN5YNqLmSZSiiM8KhOYiNw5EONj1wRF/LmOT1Nm/+9Zcv3LkQQBeAXkq3Ul8tSTE4RABlADyz73rjIVfVoAuMwgH111nAoQpR8coWDiRDB45zODwDTul/yOQ9e774sFFVuBMgBEjKSCpG06pjb3/5HmflQeewjEV0ikGsdfXWggPJnzWL8nRwqH890wGzCmJ7Wb/ZlaMmtu/9cuk6xGxggoQASZlaVRx23h2z+4+qvz0ZDo3xnNKxSg1HYqTI6Fipjxs3wFPUH2ngiItwymMOT/9ZFbV1O1o3/GcrYvMnBIlqYJBUdu6gQ4+4DExjmiCdY6UJR9IRsrNzocPOTQdzUoRJ/nsrho//7dDp88YiNuFJIkDi4OABiJN+evsE0e6aktJ2VT7L4SDadzZhrKMVJ42ScdJoGT8c3Auxczt83naDcx3qsZydnZuCBO06SQtmjvdUTz7xPgUQm3I+yMABtZqoU037wLGTT88ER6C3ExW+HXjiN+ejdlD/pAM9s/Bf+Mu7a9B/2DgNOFQ1OENaxyoVHIlpWibHKslE0IowjEGwO6fUnXb9kY1vPvg+IhOJMg0LiiDRSUE7gDLe7jwqaa5DlebIUggVvh145o5LNeEAgAtPOQa3nj0dXXu2J49Fw3MdySOaGYXDgBPmGTruagBuJYpQBCFA4iKITbA5xqWbCGz9Zj3m33A+KspcaQ82b+ZUzBo3ALIU0jXXoXllN8HOZRpFufZxlZNgd04dfvS5w2F+ez4B0td1yHHn1WYqoo///vCUkSNR5584Hd1tLZpwJM516LJz42xiHUW/IThiv6Ny5MRpiLXncwQICQDQb9i4GpY4eFWDONDbhYZxI3Qfb/zIWjg4rcZZI3MdWuUCyw4OZIYDAGzuimmqYp0AITSgmeIkpjOyFMJQndEjqjE1/XOc62D65zqS3kOmuRntuobjxeGIzAmJqjqNACEh7VyHaHfh623Nhg63ZuuevMx1aDtRaaBjyU2SWo4YGMAJQi1i97tQDUKnIH3kiD4g2l1YtblF9+GWr98Mu6s8L3MdGZ2whPtQkq8DqSMRx4s1lFoRIJp8MKS/r+PzLe1Yvn6zruM98sa/UFZVnXoQp4oKOc11QDPVyipNIxEgSaMpQ+t6v5pDcPsTC9G8tz3tkW6e/yK2dNnTwpHU8Js2xYPOuQ6dTpjWxOWBrwkUAgRprrZacKhGslx1CM65+0m8vmR50iGa97bjqvufxbJtfjjKqzJ3/RZhriMu69LbpVzColYTzYoXSa0d0cHGCyLcNRPw0KLNePit5TikNuJseXt82N4eRFn/argqxaRLc75b143auQQHAWK8BjHQuu4srwLK+uGbgPIaoRKegTrt3FRzHTm2rmv/velqHqbZwk+iFCttHZL31vUs5jqSnShjcCQ6YnHdxFppHYkASZtoxV2sDSzTgxRwMANzHRp/kO7Wdc0Xp2m1T2FrkwiQ5OBhaJkeIFXGk23relJ0yjDXoVk+Mf21Ripbm0SAaPDBoGuZHiODGHlsXYcRO5dpMJXO1iYRIAniEqtmJE/i9Y3WdZY6XdS7XBGJAEkmhEs/2HQu01P81nXodsKYRi8XiQDRUlhwuAP5XaZHq1zIb+u6phPGMjt3pLjMgs4BIjcIOVG8G4U4AI5xp19/9IC6qU9Dq9jPonVdl2Olcdw1Cy4dD2APgE6U+IJyIgEODpG1oKILORfjosEDCAs2R9AoHNr1UjZwaGZZnPITs88JI0DyDwSP2AY2vIWAy23UmNi6nmmuI6lJMZ4Q9e5ZZiwDpLXrFSNAzIVDvcNTdP+/78LdbxwAhxz0281uXc/Uwp96ovPA+HAgcvttLqln4q5XISTvekWA5AiGeocnEYBt6JQTDhraMGemwzOg3uHp38CLthpesNUY3ZJAr2OV71XX89K6rnf1+eQinQNgX/rGObOPmTb05Wz+cZLEvN29wcaO/YHGdxZteePq2z76CpHV5P2I7K8YsnokEfsAHCJUOzwhsn7u9KrRE09zVgz4keEtCTTcKGNwaJlAVm5dz271+ej48HYH7dn+8wSB81R6HA2VHkfDL/9r0k8vOa9+1+erdv11xrxXXkFkb5JuxHa8YgSIcThsChRlAMomX3j3kQPHNlwpONxTMg2KFMm9vlXXtWxdo63rZsx1IBUcWbau611gWyVZZialrQxOu1B9zLTauzqbrjj53j99ftsfH1nVpDrRmba0JkAS4BAUODyDJxxZXT/vmqtd/Qadr9fjz2nVdRhYiSSfcx0s17mOLFafz4f1EHduGSrKbVN+d+v010YM9Vx01a1LVytw+K0IiWhROERE5iQ8E8+6sWHolBMW8IJYyzQb+/TamNZtXUeOrevIYq4jjTGWVzii3ws8PJedP+FpSZJ+fs3tyz5JcLYsk27xFoRDUOBw159+zRHDpp70HC+ItckeP3RsSZAwfvpa63qKuY7c7FykbMQ017COwsBiYz8BFoGH54oL65+aO2dkrZItWG7rBd6CcLgBVNbPu/aHI6b/6GmO5z1pd4JNOyiy2WE2sWwpYuu67jQtx5128xE1mCoYHLhdU4FF9bgocOXPPnTso0qd6YTFljy1WgQRALgG1x9VM2Laj57meKFcu2WbZe/xp+t27cut60WHIzFqpPoeSY/3q7BNXrvozLOtGEV4i0UPB4DyST++9RGO5z2agzibHWazbF3XynD6XOt6hhb+/EWNVLDImo/X11XdftYpo4coY8AyUcRKgIgAHDNvfu4i0RmxcfW3bOdzh1mW21xH0VvX8+1Y6Yka6p9B83GBh+f+2w+/CLGJYAIkcc5j2JQTB7oPqr0mnx6/VXaYLVTrev7gYACT9cER931CG5YKnOqBrjOVNMtGgGikV3UnXXwxx/GetAs1G/X4Ae25joLuMJudnctMsXNZHuzcFPZtuhSLJbwm6XEZNpGr/eytuSdaKc3iLQAHB8BZM2lWjcNTdXHyhJ0eO1e7ZVu3nZv3HWZZbsv05Ni6bl5Rrs++NR5VYq8fO7ribAAeBRKu2JDwFokezoNn/vhEDpwnOzsXBu1ca+wwm3qixLzWdVPhMGDfGivcY7BVVdiOPf344VVWcbP4IsPBK/mm292/+tiUcORiY5qxwyy0r+y57jBrNE0rjp2bvX2rv3CPh+36Sw6dCotsRW2FCCIOGj9tkOgsm51yrsNg63ouy/RoFsDMhLmOXFrXTTgPunGQwi1JETEH+zaVa5Xu+/qx/WZZBRDRAoAII488bVpWHr/GiC6l1nW958GIZCnUojoY16/S4dGqFZKjRrwjFT/woe/1ynPKy4QjlMyCR6x5kZViBAEAlA8aPiUrj58ZWKanz7euZ9fCbzyEsE5EumoBwD6spvxQ4/YtSwNL5pRLFLhht11VP17lZpW2i2VzldeZ6vGntEf7cus6CtK6LoeD6xBpPQeAsn4V9vG52rfZzJWcPLNmmhWsXrGIYEQXXLCJzrKG+AtiDh4/ta7npO5dTR8gcocfB8BZ5hbH55ZiAdm8vnqQc7wV6pBi1iACANvUS+6bmX3ruglzHdS6HvurZKn5mw+e2KAcVbj/jqMOtdu4mtRFdwoQkgpzGIZlYH97A2IrqvCILPhQchHE7qgYMLEgretmzHXobF3P2zI9ee7ODXV3vK4MRB6A47QTRp2a+iqvN2ogjR2c+vVlLqFOqUF8iF8qqGRqEB6AINpdw83w+LNvXTdhh1mkTrX6Sus6Y7K3+ZNXn0FkpREBgLt2SNmMePtWzsm+TQ9b8vPfeOzIGShy20nRbd5IgV7M1nUTdpj9DrSuBzp2z+/ctrZV+dax9LXTznE6+Goz7duUUSNFZBrY3z5ClWaV5DwIBKe7oc+0rpsx15FjC38+unOloH/Fxpf++29KcW475bgRg46YNPgXyYPfBFgMvH5Alb222OOzqICMmH6qh1rXzV2mx3hhHm7Z+e8XLgbQq/yh7gfvPPJCh52vTrJv0xXZhl2szLBUH+RoKGmbd+iUk8YbsnNTzXX0pdb1DDvMFrR1nbHOjk3LL+9oWtGiFOf2t586cdqYUZVX5Mu+1QWO8jOng6spdgThiwUHAFEK+cWCL9NT7NZ1WKN1XQ4HN7Y3fnrBt0ue/QyRZUDFc089ZPBJs4Y/aqT71sxW98SJRYe9dAGxAXA7PFUzDHv81Lqe8z8g6G1/fsfS5875dsmznyg2quu040cNf+L+GS8JAjxGu29zb3VnKWG76vzRnlIDBIptZ5fDYbHgressBzu3j7euS0Hfqs6tay7c8PytN3c0rdipzC+4T5g5bPTz82e94HYJ4wph36aHJx62y38yoq5ki/R8t67nbZmePtK6DkTa10M+74feHRte3bH0uXVKOhVWLlKuJ+6fMfmcUw++r8wl1hXKvjXuepUoILxo95jXul74HWalYO+KcND/NcfxrUyW9vs79myMei6JRXnyQnSJRWm6C4CB0pxF01iGtvXLGjs2r/AqBYOEyCQgEJl8s69ddOYZ9XX9bxcEzlNI+1Y/bMVXUQERneV15rWu53+HWSbL3rC/Z1Hvvh0frf/HvR8pAy+EyDL+0U1hii1OZYRwCcaIAMBx29WHjb7pih/83lNum6KZ7hi2b02GRfX8QQNs9QA+LOkUy+qt60yWvP6OPS9sX/rCkx1bVjerYIjumhSANbYVi+uSRmx9KQGA47XHj59x+KRBZ9YOcc8tpn1rBBZRQGXJRhApGGgRHW7LtK4zjTQt2NPx1rbFz9zV1vj5bsSW6BcQ6w8Sla+tkBMcWIAPgHv20cMOuujsunHTJg+eVTPYPdNhF6qz774Fsmk6zBm2Uq5Bwv6eFrunyjKt6+piQZZlb9e3G25d/9JvFyIyyxxUnuEG4Jx38pgB1146+YiRQyvqBg9yN8TGZ34jbXxxlTzQmCxzssw4u52vF3h1bcGyuIJnAYLhlCzT7yjhGkT/XAcK2rouhUMbmj97+8odH7+6VZU+2QHY33/xjB9Ob6j5WYXHPrugZ4pFd2OODirV19GfMxYLZge6b812lMwGAenrH5RuBJE5dWJjkdZ1KRza0LRwwXltjZ9H2y8EAM7Fr5x15NRJQ673lNunFvwyUjRHKcXrCwhbyx7/x6UIiAQgLMvS/qS5jix2mEXit1m2rsvhUMumtx++oL1pZQuUGWYAnk2f/Py6MaOrrigOGNZxlMy1bw3AUsypiCJlViEAvWF/9yqrLNMjy3L3rjUfXNfetLJVSalcJ8waNWrv+ssftwQcRls5TFk8QU/9ktuq7nE3YaVdEKJ0IkjUGg1JoWCbFhxIOdeRv9Z1376dC7Z/9NwqxaVyAfC8/Pgpz3rK7GOKYXtb0lEy0b7VG5kmzP10ZalFkAOjYdWTtzRqQZHzDrO6e6KY4qb1rlr71E1/V2xcAUDZzrW/+F3B4dDdECjDeEOgrLOQzr77NvfIphWZiquiLxwnh0MtxVymhzGgdf2y3ylulQTA9v6LZ8ypHVI+t3BRoxANgWbCxgoCW6c3tLLUAWFSKNhiduu6kWV6Al373t22+Ol1Sl3EzZ1z8IDZR4+4p3hRI8PAKsLiCfq7b9WwIWfYen3hlmKHkaJHkGB3+0qzW9f1zHVEj9v17Ya3APREo8eDd8+4SBA4T8HgMDowE1MRXUVuMWCTc4ZtT1twYylHEBlAONDV/lWxWteZFG5ueu/RZYjMlMvnnjau36jhlefnHwxZ181C+XOU8gUbMxW25eu6PkVsTaySAuRAk593z7ZVxWpdD/V2LVbgkAAId9ww7bj8Ro9M9q1son1bDNiYabBJYdn7i7s2rVLVhqzUAJEBhDe997etTJa9hW5dBwN87btWKP8ADoB9aHX58YUpxPPlKJkJG4oKW0dXaCViN3fJpQZINMWSAYRDfu/KYqy63rLyveWItZM4POX2OYW3b1kfsG8LD1vTt70fKsaJVIopVtyl1d+5b2VKOLK0c1mq/TRUj3VsWeNVHuEff2BOfXHs2yzy9rzBxiwD2wNPNb+HSAd1UW9Cs8QGOvu3f7Ui12V6kuoV9Ws04JCDgUb13zDoILcnv1GjEI5SrrAxHbAh77B5e8KLXvtg325Y4C5NK0SQcNM//77uQB2ic64jMSU1uuq6LEtesm+zgU3OO2xbd/oXJxTnrFQBid7T3RvydX+gnTJpz3XoX6YH2qmW6eec7FtzYAP+5/Gdi5TivOi9JnyRo8cBu7dn7zcf5meH2fTFPtm3hbVv07e2Ax1d4Vdf/ue+VsT2SSzpmfToZSS05pnffCBLoeZCrrpO9q1VYItp5VfdrynpVajUI0hcHQIg7O9sfbNgq67nfO7JvjUHtpiCIdYy59L1nyF+1RiUegRhyhXDu2XxM0/KsuzNpXVd96rrzKyoQfZtdrAla/XX3QsUa9cS9YeVIogEILBv4+et/o49z+XSum5o1XWybwtq36YzRySJeaf9ZN3riC2tRIAkQBIC4Nuy+OmnmCx7Td1hVuvFhs8/2be5w5ZaK77q/oMCRxBF2tHW6oCEAfjaNq3Yvf/bDTcnDWKdO8xqTxhqRCJmBIy+Zt/CkvZtKvX45MZpP133KiILZVim/rAaIJJyBela9/yd7/g79z6fzQ6z+lddZwaiBmDavhgFgU020b6FKfZtOv3j/dZfA9iPyBrHYVhIvIX+luilJwjAt3z+FfcGOve9Z84mmkwzsGRn3zITi1z0Afs2F9gya9X67gcuvmPzCkRuWgtYKXpYDZCowojco9G+fMHlvwp429/Rbeca3mG22PatmbAxy9q3qdSyN/h2wzlfPK6CQ7ISHFYEJJpqBRVI9i+ff9mvfO27HzF9h1nGvmP2rVVg06e9baE3a2et+DUALyzQtduXIoh6S4FuAPtX/fWaP3ZsXn2eFPQtNzTXoXFLbkKiFX/HFdm3OcKWWZLMvJ+s9V42+Jjl1yXUHbLVogdQ9P1BMkISdTUCG169bzGAT+pOvfboyhH154kO93GGd5iNS8U4pgrpXHIUSeXx4zu19q2x16c6Rzry5jDbuekb37P3PLbjpX+8v2+PcgGM3jEoWREOKwOitn6jW4f5Afga33poEYCPATjGnHLl4WWDRk4BGHi7q0YQHTWJESPpHhPlISno36DKe8X0jlIeYUl4fsf+wGqOA+O4A/lYwn36Rvb10wmoru0MtI6XWrtagysBoG1/qOXtJe2f3fdk8zal1uhBbLbcCpsO9VlAEmL7gdrED6ALgNi0cEELgDeyPLZ6376ypKtmrst5Zrzqav+O/pNeP095f36r5uVZnuuwcq7DsMrK1N8BQLTc2bDKDuZMOCYDwLi0ebdRWHJ5/YFo2WsBQExue7Z+xOirgCT+w8xsReC15wB0gKArVzcIS2xPQbFIgESjtZSnwpn1pQHX1wAx+wRz8cfLd5GbGbbNS064xu0SAg4bH+bVdYjmMTLCZjhF5DmwysM/fgCxuQmGEpYIksZAKZ6jdPDwsitzc5RMSQMfU1LYQPJFhAApUT4Y2bex1zuUNK/kRYBo1pJZuFY52b8aA1cTtoKlgTyNBQIkTYqlJ33JFRarwkYiQFIBku89xFNuXWYV2EgESFpvrFBzHVaEjUSAZJVipSrEs5krsSJsJAIkLymWCUVypj3Es4QtGIz0/nEcYBM5ihoEiMkpVk72bXFgk8Iyun0OoPJ4OGoOAy+WI+TfhZ62ZRB6/wNPGUdRgwApQIplQfs2FJTRwx+Oikm/AS+WH3hHdgDu6pMR8jah7csrUVXRC56j/7QRkd+dlGIlwmL0fm716/O/eIIsMXilQ9Gv/vdxcKhl84xBxfcWoKvHTf9mAiTXKGKllUoyw9bTE0Ll+N9kfGc2zxjYh1+DYJBSLAIkpxQLgGUWT8gMm1x2JARnta536K4+Gb0+AoQAyYqPvrl4Au8eY+htChWHpX28q1taSZU8AZKkFevamk1bPAGFXDzBXHHcgU2NJBoVBEhU8j0Pr9shSbI39Uol0B8FmIlr32aATQ4Z20lODuxK+7gvIH+F2ALSKPVoUuqARP/5YQCBnp7QZ3EgxDlKsjFYmN47FHOEzbtM95sNdqyGje1O+5xvWgKfwUIb2BAg1oAkBMD39ZbOV3U7SiwX+9Y82Fz8bvTseEnXG+3e/gScztQTIZLEvFPP/eIDWGwBaQKk+ICEAfiOOH3Ru6Gg1Gy4kM7Vvs0aNsBu5xBu/jN6d72b9k3u33AvyrE27UThtubAs7DYBjbFFt01lnDBOPwH/bePHVU+z/SGQj3PybL71ung4G9dBl/XLtg8Y8CLnri0yrvpXpTJ/4HdlpqOQFBuufiOzbds2u5rVWoQKtKR27I538Vo6gQwYMfHp9w7dIjzgtQDOUdY8tR9K0mAP8AQ5oeAd1RD7m2Cje+G25X53/zKon0/O/v6xg8BtOG7tSYXAWLiubABqABQ2bv+tIUuhzDOUPdt3ODOByz50cZtvsfGz119P4BORBatowKdUqy0Fwu2YXPX4rmzhsyw2biDitLqXiA4mvcG3zn4hFV3K2D0EhwESCbJAOSNW7y+NRv2/2vGEQcNrigT6ozXFma1uudPS1d03v39eWv/DKBdgcNyG9hQimXNc8IjcitABYCKdQtnXnLoIeVXCDw8hlrdMz2nSFEjEJRb3vqo/bZzbmxcpkSOLlh4CwKKINZUdEYu/Oj/bl/lcgjvTRzn+Z7DztWa70gVbvGErTv983/526033PXIji8R2ZvDchtnUgTpO+dGUD5sisNV/uKDk2adPGPgZZ4yYUq+7Vsz1bY//NqCF3f95c4F325WoAgi1nMlERwESC7nJ7qYtAtAPwDiY3dPmHDGnMHnV1WKsw+kXhZbPCEUYs079gTeuOG+bU+/+VF7q1Jn+FRgyHn9AwiQkjpPnAKJQ/lsA+CYO2vgkJsuHnl83Uj3sVUV4mRByAYWU+uLXS17g0veWtL+5nV/2LZOBYUfybPkBAYBkhdQooV8NP2Kfrhe/lP9jIljyw4fMtDeUFkuNOS7EA8E5V3eXmnjzt3BlS++1/rBfU82N6miRPSjT+zmRIB8N8+dGpgoKLzyM8fCR+pnDq9xfK+ijB/WzyPWlbv4ukiUMa5en9zYG5Ba2jrCjTt2BzZ8+oV33R3zv92E2DYFsgqKRCAIDAKk6KDwCVFGRGRxETU0AIClT9fXDayyHQClqkIc5nLywwGgZW/wY/UvmHDqmpUJv1MNgzptStzJicAgQCx7PtVpGJ+Hcx0FQWsnKIKCAOlz0SUfoihBIpFIJBKJRCKRSCQSiUQikUgkEolEIpFIJBKJRCKRSCQSiUQikUgkEolEIpFIJBKJRCKRSCQSiUQikUgkEolEIpFIJBKJRCKRSCQSiUQiFUr/D8Nsh0lQkw6dAAAAAElFTkSuQmCC)"
      ]
    },
    {
      "cell_type": "markdown",
      "metadata": {
        "id": "wTLM1Adrd60F"
      },
      "source": [
        "\n",
        "Python é uma linguagem de Programação de \"alto nível\", ou seja, a sua sintaxe é bastante parecida à linguagem corrente, permitindo assim uma leitura facilitada do código. Começemos por uma introdução aos básicos desta linguagem."
      ]
    },
    {
      "cell_type": "markdown",
      "metadata": {
        "id": "1hzipQjqd74e"
      },
      "source": [
        "# **Variáveis e Operações**"
      ]
    },
    {
      "cell_type": "markdown",
      "metadata": {
        "id": "LzI9Q3cZVucR"
      },
      "source": [
        "Os blocos principais de todas as linguagens de programação são as **variáveis**. Estas permitem guardar dados para serem posteriormente manipulados.\n",
        "```\n",
        "numero = 10\n",
        "decimal = 3.14\n",
        "letra = \"N\"\n",
        "palavra = \"fisica\"\n",
        "```\n",
        "Vamos focar-nos em manipular números, inteiros ou decimais. Em Python, a maioria das operações e funções matemáticas encontram-se implementadas de raiz. Em baixo encontram-se alguns exemplos.\n"
      ]
    },
    {
      "cell_type": "code",
      "metadata": {
        "id": "Bb4V8gEzsEw9",
        "colab": {
          "base_uri": "https://localhost:8080/"
        },
        "outputId": "e056b631-eea2-413a-9175-8a83c0859cd6"
      },
      "source": [
        "# Definir as variáveis sobre as quais vamos atuar\n",
        "x = 3\n",
        "y = 5\n",
        "print(\"x = \", x)\n",
        "print(\"y = \", y)\n",
        "\n",
        "# Aplicar várias operações e imprimir o resultado\n",
        "print(\"Soma: x + y =\", x + y)\n",
        "print(\"Subtração: x - y =\", x - y)\n",
        "print(\"Mutiplicação: x * y =\", x * y)\n",
        "print(\"Divisão: x / y =\", x / y)\n",
        "print(\"Exponenciação: x ** y =\", x ** y)"
      ],
      "execution_count": null,
      "outputs": [
        {
          "output_type": "stream",
          "text": [
            "x =  3\n",
            "y =  5\n",
            "Soma: x + y = 8\n",
            "Subtração: x - y = -2\n",
            "Mutiplicação: x * y = 15\n",
            "Divisão: x / y = 0.6\n",
            "Exponenciação: x ** y = 243\n"
          ],
          "name": "stdout"
        }
      ]
    },
    {
      "cell_type": "markdown",
      "metadata": {
        "id": "fWB4_tkZXd64"
      },
      "source": [
        "No código acima, é de notar a existência de linhas começadas com um cardinal (#). Estas permitem escrever comentários a meio do código, ou seja, linhas que o programa irá simplesmente ignorar.\n",
        "\n",
        "Também se destaca a função:\n",
        "```\n",
        "print()\n",
        "```\n",
        "a qual permite imprimir no ecrã resultados. As várias coisas que se pretendem imprimir deverão estar divididas por uma vírgula e texto deverá estar entre aspas.\n",
        "\n",
        "Por outro lado, existem outras funções que para serem usadas é necessário importar uma biblioteca, a \"math\". Isto é feito através da seguinte linha de código:\n",
        "```\n",
        "import math\n",
        "```\n",
        "Uma biblioteca é um conjunto de comandos pré definidos fora do ficheiro atual que ao ser importada permite a utilização dos códigos nela contidos. De notar que para utilizar esse códigos, estes deve,m estar precedidos por \"math.\"\n",
        "\n",
        "Seguem alguns exemplo:\n",
        "\n"
      ]
    },
    {
      "cell_type": "code",
      "metadata": {
        "id": "B3w4sSmbUHKE",
        "colab": {
          "base_uri": "https://localhost:8080/"
        },
        "outputId": "17fc9f02-9f91-456c-d700-a0e6d0d59008"
      },
      "source": [
        "# Importar a biblioteca\n",
        "import math\n",
        "\n",
        "# Relembrar as variáveis definidas acima\n",
        "print(\"x = \", x)\n",
        "print(\"y = \", y)\n",
        "\n",
        "# Atuar nas variáveis com funções da biblioteca math\n",
        "print(\"Raiz Quadrada: math.sqrt(x) =\", math.sqrt(x))\n",
        "print(\"Exponencial (e^x): math.exp(x) =\", math.exp(x))\n",
        "print(\"Logaritmo de Base Natural: math.log(x) =\", math.log(x))\n",
        "print(\"Seno: math.sin(x) =\", math.sin(x))\n",
        "print(\"Seno: math.cos(x) =\", math.cos(x))"
      ],
      "execution_count": null,
      "outputs": [
        {
          "output_type": "stream",
          "text": [
            "x =  3\n",
            "y =  5\n",
            "Raiz Quadrada: math.sqrt(x) = 1.7320508075688772\n",
            "Exponencial (e^x): math.exp(x) = 20.085536923187668\n",
            "Logaritmo de Base Natural: math.log(x) = 1.0986122886681098\n",
            "Seno: math.sin(x) = 0.1411200080598672\n",
            "Seno: math.cos(x) = -0.9899924966004454\n"
          ],
          "name": "stdout"
        }
      ]
    },
    {
      "cell_type": "markdown",
      "metadata": {
        "id": "35nOGBWnePbP"
      },
      "source": [
        "Atenção que as funções trignométricas usam todas os argumentos em radianos!\n",
        "\n",
        "Esta biblioteca guarda também algumas constantes, como é exemplo π:\n",
        "```\n",
        "math.pi\n",
        "```\n",
        "Uma vez importada, não precisamos mais de a importar neste documento."
      ]
    },
    {
      "cell_type": "markdown",
      "metadata": {
        "id": "rw9hNUoxeQRc"
      },
      "source": [
        "# **Listas**"
      ]
    },
    {
      "cell_type": "markdown",
      "metadata": {
        "id": "ls2zidr0aWwC"
      },
      "source": [
        "Por vezes, é mais eficiente guardar muitas dados numa única variável. Para isso, usamos listas. Estas guardam *n* variáveis em lugares numerados de 0 a *n-1*. As listas são definidas como:\n",
        "```\n",
        "lista = [13, 72, 23, 85]\n",
        "```\n",
        "As variáveis dentro dos parêntises retos são as variáveis que a lista irá guardar. Para aceder a um elemento, pode-se usar a notação:\n",
        "```\n",
        "print(lista[1])\n",
        "```\n",
        "Esta linha de código iria imprimir o valor na posição *1* da lista, ou seja, o número 72 (começa-se a contar do 0!!!).\n",
        "\n",
        "Analisemos o seguinte exemplo:"
      ]
    },
    {
      "cell_type": "code",
      "metadata": {
        "id": "zW--RvwKclkT",
        "colab": {
          "base_uri": "https://localhost:8080/"
        },
        "outputId": "2bc6a533-5c88-4241-e3ed-421c8f3436c5"
      },
      "source": [
        "# Inicialização da lista\n",
        "lista = [10, 20, 30, 40]\n",
        "\n",
        "# Aceder aos seus elementos\n",
        "print(\"O elemento na posição 2 é: \", lista[2])\n",
        "print(\"A lista toda impressa é: \", lista)\n",
        "print(\"O tamanho da lista pode ser obtido pelo comando len(lista), retornando:\", len(lista))\n",
        "\n",
        "# Adicionar uma variável à lista\n",
        "lista.append(50)\n",
        "print(\"Foi adicionada uma variável à lista!\")\n",
        "print(\"A lista toda impressa é: \", lista)\n",
        "print(\"O tamanho da lista pode ser obtido pelo comando len(lista), retornando:\", len(lista))\n",
        "\n",
        "# Alterar uma das entradas da lista\n",
        "lista[2] = lista[2] + 5\n",
        "print(\"Foi somado 5 ao elemento 2 da lista.\")\n",
        "print(\"A lista toda impressa é: \", lista)"
      ],
      "execution_count": null,
      "outputs": [
        {
          "output_type": "stream",
          "text": [
            "O elemento na posição 2 é:  30\n",
            "A lista toda impressa é:  [10, 20, 30, 40]\n",
            "O tamanho da lista pode ser obtido pelo comando len(lista), retornando: 4\n",
            "Foi adicionada uma variável à lista!\n",
            "A lista toda impressa é:  [10, 20, 30, 40, 50]\n",
            "O tamanho da lista pode ser obtido pelo comando len(lista), retornando: 5\n",
            "Foi somado 5 ao elemento 2 da lista.\n",
            "A lista toda impressa é:  [10, 20, 35, 40, 50]\n"
          ],
          "name": "stdout"
        }
      ]
    },
    {
      "cell_type": "markdown",
      "metadata": {
        "id": "m_rlwmicfAuf"
      },
      "source": [
        "Podemos então resumir algumas funcionalidades das listas:\n",
        "* Definição inicial da lista (pode ou não começar vazia)\n",
        "```\n",
        "lista = []\n",
        "```\n",
        "* Adicionar um elemento à lista\n",
        "```\n",
        "lista.append(10)\n",
        "```\n",
        "* Aceder a um elemento da lista (as posições começam a contar de 0!!!)\n",
        "```\n",
        "lista[1]\n",
        "```\n",
        "* Obter o tamanho da lista\n",
        "```\n",
        "len(lista)\n",
        "```"
      ]
    },
    {
      "cell_type": "markdown",
      "metadata": {
        "id": "eXll-tWgfs-E"
      },
      "source": [
        "# ***For Loops***"
      ]
    },
    {
      "cell_type": "markdown",
      "metadata": {
        "id": "U9f0dzTgf1Ew"
      },
      "source": [
        "Imaginemos que queremos criar uma lista com todos os números inteiros menores que 100. Ninguém teria tempo para escrever todos os números à mão. De modo a resolver este problema, podemos criar código que se repete *n* vezes de modo a permitir obter um código mais limpo, eficiente e organizado.\n",
        "\n",
        "Começemos por ilustrar este exemplo com um *for loop*. A sua sintaxe é:\n",
        "```\n",
        "for {variável} in range({máximo}):\n",
        "  {código a executar}\n",
        "```\n",
        "Este fragmento de código iria executar o *{código a executar}* percorrendo a *{variável}* de *0* a *{máximo}*.\n",
        "\n",
        "Exemplifiquemos com o caso em particular:"
      ]
    },
    {
      "cell_type": "code",
      "metadata": {
        "colab": {
          "base_uri": "https://localhost:8080/"
        },
        "id": "MMxkCLd6gZ5w",
        "outputId": "195664a8-aa8a-4920-9974-0c0192797928"
      },
      "source": [
        "# Inicializar a lista que queremos preencher\n",
        "lista = []\n",
        "\n",
        "# Usar um for loop para a preencher\n",
        "for i in range(25):\n",
        "  lista.append(i)\n",
        "\n",
        "print(lista)"
      ],
      "execution_count": 1,
      "outputs": [
        {
          "output_type": "stream",
          "text": [
            "[0, 1, 2, 3, 4, 5, 6, 7, 8, 9, 10, 11, 12, 13, 14, 15, 16, 17, 18, 19, 20, 21, 22, 23, 24]\n"
          ],
          "name": "stdout"
        }
      ]
    },
    {
      "cell_type": "markdown",
      "metadata": {
        "id": "gWkTUu0FiEa3"
      },
      "source": [
        "Deste modo, foi possível preencher a lista com todos estes números facilemente. Reparamos que o código identado depois da linha do *for* foi corrido *100* vezes, aumentando de cada vez o valor de *i*. Vamos agora multiplicar todos os números por 2 e imprimir cada um numa linha:"
      ]
    },
    {
      "cell_type": "code",
      "metadata": {
        "id": "j7rRlGhGikfh",
        "colab": {
          "base_uri": "https://localhost:8080/"
        },
        "outputId": "a1d5da75-5431-4ce1-ac74-c3e641504508"
      },
      "source": [
        "# Usar a lista já definida acima\n",
        "for i in range(len(lista)):\n",
        "  lista[i] = lista[i] * 2\n",
        "  print(\"Entrada\", i, \"é\", lista[i])\n",
        "print(\"Já está!\")"
      ],
      "execution_count": 2,
      "outputs": [
        {
          "output_type": "stream",
          "text": [
            "Entrada 0 é 0\n",
            "Entrada 1 é 2\n",
            "Entrada 2 é 4\n",
            "Entrada 3 é 6\n",
            "Entrada 4 é 8\n",
            "Entrada 5 é 10\n",
            "Entrada 6 é 12\n",
            "Entrada 7 é 14\n",
            "Entrada 8 é 16\n",
            "Entrada 9 é 18\n",
            "Entrada 10 é 20\n",
            "Entrada 11 é 22\n",
            "Entrada 12 é 24\n",
            "Entrada 13 é 26\n",
            "Entrada 14 é 28\n",
            "Entrada 15 é 30\n",
            "Entrada 16 é 32\n",
            "Entrada 17 é 34\n",
            "Entrada 18 é 36\n",
            "Entrada 19 é 38\n",
            "Entrada 20 é 40\n",
            "Entrada 21 é 42\n",
            "Entrada 22 é 44\n",
            "Entrada 23 é 46\n",
            "Entrada 24 é 48\n",
            "Já está!\n"
          ],
          "name": "stdout"
        }
      ]
    },
    {
      "cell_type": "markdown",
      "metadata": {
        "id": "trKc-p-qi4qx"
      },
      "source": [
        "Começamos por reparar que a agora a variável *i* percorre os números de *0* até ao número de elementos da lista, exatamente como pretendemos. Por outro lado, em vez de correr apenas uma linha de código a cada iteração, 2 linhas distintas são corridas. Qualquer número de linhas de código pode ser corrido dentro de um *for loop* desde que esssas linhas estejam identadas. A linha 5 do código acima apenas corre depois do *loop* porque não está identada."
      ]
    },
    {
      "cell_type": "markdown",
      "metadata": {
        "id": "hCkBaQgDYgyb"
      },
      "source": [
        "# ***While Loops***"
      ]
    },
    {
      "cell_type": "markdown",
      "metadata": {
        "id": "s6xKlIDtVWBk"
      },
      "source": [
        "# ***Matplotlib***"
      ]
    },
    {
      "cell_type": "markdown",
      "metadata": {
        "id": "0VDA_BThWApe"
      },
      "source": [
        "No Python, muito do código necessário para a execução de um grande número de tarefas já se encontra desenvolvido, e organizado em **Módulos**, que podem ser incluidos em qualquer programa. Um exemplo é o módulo *math*, usado anteriormente. A sua inclusão é feita através do comando:\n",
        "```\n",
        "import modulo\n",
        "```\n",
        "O *Matplotlib* é um módulo bastante útil, que permita a criação de uma interface gráfica para representação de dados. Vamos ver alguns exemplos."
      ]
    },
    {
      "cell_type": "code",
      "metadata": {
        "colab": {
          "base_uri": "https://localhost:8080/",
          "height": 279
        },
        "id": "i9oQIlIJbI-J",
        "outputId": "bfd67c82-623e-413d-ab0b-48cf55608c27"
      },
      "source": [
        "import matplotlib.pyplot as plt\n",
        "\n",
        "#Listas com dados que queremos representar\n",
        "x1 = [0,1,2,3,4,5,6,7,8]\n",
        "y1 = [0,1,4,9,16,25,36,49,64]\n",
        "x2 = [0,1,2,3,4]\n",
        "y2 = [0,1,8,27,64]\n",
        "x3 = [0.1*x for x in range(54)]\n",
        "y3 = [x**2.5 for x in x3]\n",
        "\n",
        "plt.scatter(x1,y1)\n",
        "plt.plot(x2,y2, color=\"red\", marker=\"o\")\n",
        "plt.plot(x3,y3, color=\"orange\", linestyle=\"--\", linewidth=7)\n",
        "\n",
        "plt.xlabel(\"x\")\n",
        "plt.ylabel(\"y\")\n",
        "\n",
        "plt.show()"
      ],
      "execution_count": null,
      "outputs": [
        {
          "output_type": "display_data",
          "data": {
            "image/png": "[encoded data removed]",
            "text/plain": [
              "<Figure size 432x288 with 1 Axes>"
            ]
          },
          "metadata": {
            "tags": [],
            "needs_background": "light"
          }
        }
      ]
    }
  ]
}